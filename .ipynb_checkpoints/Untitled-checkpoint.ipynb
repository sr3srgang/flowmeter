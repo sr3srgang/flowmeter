{
 "cells": [
  {
   "cell_type": "code",
   "execution_count": 33,
   "id": "c9cb4973-e4d8-4599-b731-56e2fbe76009",
   "metadata": {},
   "outputs": [
    {
     "name": "stdout",
     "output_type": "stream",
     "text": [
      "\n",
      "eReadName result: \n",
      "    SERIAL_NUMBER = 470033665.000000\n",
      "\n",
      "Voltage at AIN0:\n",
      "    AIN0 = 10.1053 V\n"
     ]
    }
   ],
   "source": [
    "from labjack import ljm\n",
    "\n",
    "# Open the first found LabJack device\n",
    "handle = ljm.openS(\"ANY\", \"ANY\", \"ANY\")\n",
    "name =\"SERIAL_NUMBER\"\n",
    "result = ljm.eReadName(handle, name)\n",
    "print(\"\\neReadName result: \")\n",
    "print(\"    %s = %f\"%(name, result))\n",
    "\n",
    "# Read the voltage at AIN0\n",
    "name = \"AIN0\"\n",
    "voltage = ljm.eReadName(handle, name)\n",
    "\n",
    "# Print the result\n",
    "print(\"\\nVoltage at AIN0:\")\n",
    "print(\"    %s = %.4f V\" % (name, voltage))\n",
    "\n",
    "# Close the LabJack connection\n",
    "ljm.close(handle)\n"
   ]
  },
  {
   "cell_type": "code",
   "execution_count": 39,
   "id": "8f05c567-0d75-45c9-9561-dcdbb46231b1",
   "metadata": {},
   "outputs": [
    {
     "ename": "LJMError",
     "evalue": "LJM library error code 1227 LJME_DEVICE_NOT_FOUND",
     "output_type": "error",
     "traceback": [
      "\u001b[1;31m---------------------------------------------------------------------------\u001b[0m",
      "\u001b[1;31mLJMError\u001b[0m                                  Traceback (most recent call last)",
      "Cell \u001b[1;32mIn[39], line 38\u001b[0m\n\u001b[0;32m     35\u001b[0m labjack_device \u001b[38;5;241m=\u001b[39m LabJackT7(ip_address\u001b[38;5;241m=\u001b[39m\u001b[38;5;124m\"\u001b[39m\u001b[38;5;124m192.168.1.100\u001b[39m\u001b[38;5;124m\"\u001b[39m)  \u001b[38;5;66;03m# Provide the IP address of your LabJack T7 device\u001b[39;00m\n\u001b[0;32m     37\u001b[0m \u001b[38;5;66;03m# Open connection to LabJack\u001b[39;00m\n\u001b[1;32m---> 38\u001b[0m \u001b[43mlabjack_device\u001b[49m\u001b[38;5;241;43m.\u001b[39;49m\u001b[43mopen_connection\u001b[49m\u001b[43m(\u001b[49m\u001b[43m)\u001b[49m\n\u001b[0;32m     40\u001b[0m \u001b[38;5;66;03m# Read serial number\u001b[39;00m\n\u001b[0;32m     41\u001b[0m serial_number \u001b[38;5;241m=\u001b[39m labjack_device\u001b[38;5;241m.\u001b[39mread_serial_number()\n",
      "Cell \u001b[1;32mIn[39], line 12\u001b[0m, in \u001b[0;36mLabJackT7.open_connection\u001b[1;34m(self)\u001b[0m\n\u001b[0;32m      9\u001b[0m \u001b[38;5;28;01mdef\u001b[39;00m\u001b[38;5;250m \u001b[39m\u001b[38;5;21mopen_connection\u001b[39m(\u001b[38;5;28mself\u001b[39m):\n\u001b[0;32m     10\u001b[0m     \u001b[38;5;66;03m# Open the first found LabJack device\u001b[39;00m\n\u001b[0;32m     11\u001b[0m     \u001b[38;5;28;01mif\u001b[39;00m \u001b[38;5;28mself\u001b[39m\u001b[38;5;241m.\u001b[39mip_address:\n\u001b[1;32m---> 12\u001b[0m         \u001b[38;5;28mself\u001b[39m\u001b[38;5;241m.\u001b[39mhandle \u001b[38;5;241m=\u001b[39m \u001b[43mljm\u001b[49m\u001b[38;5;241;43m.\u001b[39;49m\u001b[43mopenS\u001b[49m\u001b[43m(\u001b[49m\u001b[38;5;124;43m\"\u001b[39;49m\u001b[38;5;124;43mANY\u001b[39;49m\u001b[38;5;124;43m\"\u001b[39;49m\u001b[43m,\u001b[49m\u001b[43m \u001b[49m\u001b[38;5;124;43m\"\u001b[39;49m\u001b[38;5;124;43mANY\u001b[39;49m\u001b[38;5;124;43m\"\u001b[39;49m\u001b[43m,\u001b[49m\u001b[43m \u001b[49m\u001b[38;5;28;43mself\u001b[39;49m\u001b[38;5;241;43m.\u001b[39;49m\u001b[43mip_address\u001b[49m\u001b[43m)\u001b[49m  \u001b[38;5;66;03m# Use IP address if provided\u001b[39;00m\n\u001b[0;32m     13\u001b[0m     \u001b[38;5;28;01melse\u001b[39;00m:\n\u001b[0;32m     14\u001b[0m         \u001b[38;5;28mself\u001b[39m\u001b[38;5;241m.\u001b[39mhandle \u001b[38;5;241m=\u001b[39m ljm\u001b[38;5;241m.\u001b[39mopenS(\u001b[38;5;124m\"\u001b[39m\u001b[38;5;124mANY\u001b[39m\u001b[38;5;124m\"\u001b[39m, \u001b[38;5;124m\"\u001b[39m\u001b[38;5;124mANY\u001b[39m\u001b[38;5;124m\"\u001b[39m, \u001b[38;5;124m\"\u001b[39m\u001b[38;5;124mANY\u001b[39m\u001b[38;5;124m\"\u001b[39m)\n",
      "File \u001b[1;32m~\\AppData\\Local\\Packages\\PythonSoftwareFoundation.Python.3.13_qbz5n2kfra8p0\\LocalCache\\local-packages\\Python313\\site-packages\\labjack\\ljm\\ljm.py:342\u001b[0m, in \u001b[0;36mopenS\u001b[1;34m(deviceType, connectionType, identifier)\u001b[0m\n\u001b[0;32m    340\u001b[0m error \u001b[38;5;241m=\u001b[39m _staticLib\u001b[38;5;241m.\u001b[39mLJM_OpenS(deviceType\u001b[38;5;241m.\u001b[39mencode(\u001b[38;5;124m\"\u001b[39m\u001b[38;5;124mascii\u001b[39m\u001b[38;5;124m\"\u001b[39m), connectionType\u001b[38;5;241m.\u001b[39mencode(\u001b[38;5;124m\"\u001b[39m\u001b[38;5;124mascii\u001b[39m\u001b[38;5;124m\"\u001b[39m), identifier\u001b[38;5;241m.\u001b[39mencode(\u001b[38;5;124m\"\u001b[39m\u001b[38;5;124mascii\u001b[39m\u001b[38;5;124m\"\u001b[39m), ctypes\u001b[38;5;241m.\u001b[39mbyref(cHandle))\n\u001b[0;32m    341\u001b[0m \u001b[38;5;28;01mif\u001b[39;00m error \u001b[38;5;241m!=\u001b[39m errorcodes\u001b[38;5;241m.\u001b[39mNOERROR:\n\u001b[1;32m--> 342\u001b[0m     \u001b[38;5;28;01mraise\u001b[39;00m LJMError(error)\n\u001b[0;32m    344\u001b[0m \u001b[38;5;28;01mreturn\u001b[39;00m cHandle\u001b[38;5;241m.\u001b[39mvalue\n",
      "\u001b[1;31mLJMError\u001b[0m: LJM library error code 1227 LJME_DEVICE_NOT_FOUND"
     ]
    }
   ],
   "source": [
    "import socket\n",
    "from labjack import ljm\n",
    "\n",
    "class LabJackT7:\n",
    "    def __init__(self, ip_address):\n",
    "        self.ip_address = ip_address\n",
    "        self.handle = None\n",
    "    \n",
    "    def open_connection(self):\n",
    "        handle = ljm.openS(\"T7\", \"ETHERNET\", ip_address)\n",
    "        print(f\"Connected to LabJack with IP Address: {ip_address}\")\n",
    "\n",
    "\n",
    "    def read_voltage_AIN0(self):\n",
    "        voltage = ljm.eReadName(handle, \"AIN0\")\n",
    "        print(f\"Voltage at AIN0: {voltage:.4f} V\")\n",
    "\n",
    "    def close_connection(self):\n",
    "        # Close the LabJack connection\n",
    "        if self.handle:\n",
    "            ljm.close(self.handle)\n",
    "\n",
    "#ip_address=\"192.168.1.100\"\n"
   ]
  },
  {
   "cell_type": "code",
   "execution_count": 42,
   "id": "a1e3b479-2fba-4851-a393-a39c7f233326",
   "metadata": {},
   "outputs": [
    {
     "name": "stdout",
     "output_type": "stream",
     "text": [
      "Connected to LabJack with IP Address: 192.168.1.120\n",
      "Voltage at AIN0: 0.3056 V\n"
     ]
    }
   ],
   "source": [
    "from labjack import ljm\n",
    "\n",
    "def connect_labjack(ip_address):\n",
    "    try:\n",
    "        # Open the LabJack T7 device over Ethernet using its IP address\n",
    "        handle = ljm.openS(\"T7\", \"ETHERNET\", ip_address)\n",
    "        print(f\"Connected to LabJack with IP Address: {ip_address}\")\n",
    "\n",
    "        \n",
    "        # Read the voltage on AIN0\n",
    "        voltage = ljm.eReadName(handle, \"AIN0\")\n",
    "        print(f\"Voltage at AIN0: {voltage:.4f} V\")\n",
    "        \n",
    "        # Close the connection\n",
    "        ljm.close(handle)\n",
    "    \n",
    "    except ljm.LJMError as e:\n",
    "        print(f\"Error: {e}\")\n",
    "\n",
    "# Example usage\n",
    "if __name__ == \"__main__\":\n",
    "    connect_labjack(\"192.168.1.120\")  # Replace with your LabJack's IP address\n"
   ]
  },
  {
   "cell_type": "code",
   "execution_count": null,
   "id": "93a11e54-e5b1-451b-aeae-bb815d5d6443",
   "metadata": {},
   "outputs": [],
   "source": []
  }
 ],
 "metadata": {
  "kernelspec": {
   "display_name": "Python 3 (ipykernel)",
   "language": "python",
   "name": "python3"
  },
  "language_info": {
   "codemirror_mode": {
    "name": "ipython",
    "version": 3
   },
   "file_extension": ".py",
   "mimetype": "text/x-python",
   "name": "python",
   "nbconvert_exporter": "python",
   "pygments_lexer": "ipython3",
   "version": "3.13.1"
  }
 },
 "nbformat": 4,
 "nbformat_minor": 5
}
