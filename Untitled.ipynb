{
 "cells": [
  {
   "cell_type": "code",
   "execution_count": 33,
   "id": "c9cb4973-e4d8-4599-b731-56e2fbe76009",
   "metadata": {},
   "outputs": [
    {
     "name": "stdout",
     "output_type": "stream",
     "text": [
      "\n",
      "eReadName result: \n",
      "    SERIAL_NUMBER = 470033665.000000\n",
      "\n",
      "Voltage at AIN0:\n",
      "    AIN0 = 10.1053 V\n"
     ]
    }
   ],
   "source": [
    "from labjack import ljm\n",
    "\n",
    "# Open the first found LabJack device\n",
    "handle = ljm.openS(\"ANY\", \"ANY\", \"ANY\")\n",
    "name =\"SERIAL_NUMBER\"\n",
    "result = ljm.eReadName(handle, name)\n",
    "print(\"\\neReadName result: \")\n",
    "print(\"    %s = %f\"%(name, result))\n",
    "\n",
    "# Read the voltage at AIN0\n",
    "name = \"AIN0\"\n",
    "voltage = ljm.eReadName(handle, name)\n",
    "\n",
    "# Print the result\n",
    "print(\"\\nVoltage at AIN0:\")\n",
    "print(\"    %s = %.4f V\" % (name, voltage))\n",
    "\n",
    "# Close the LabJack connection\n",
    "ljm.close(handle)\n"
   ]
  },
  {
   "cell_type": "code",
   "execution_count": 56,
   "id": "8f05c567-0d75-45c9-9561-dcdbb46231b1",
   "metadata": {},
   "outputs": [
    {
     "name": "stdout",
     "output_type": "stream",
     "text": [
      "Voltage at AIN0: 0.3802 V\n"
     ]
    }
   ],
   "source": [
    "\n",
    "from labjack import ljm\n",
    "\n",
    "class LabJackT7:\n",
    "    def __init__(self, ip_address):\n",
    "        self.ip_address = ip_address\n",
    "\n",
    "    def read_voltage_AIN0(self):\n",
    "        handle = ljm.openS(\"T7\", \"ETHERNET\", self.ip_address)\n",
    "        voltage = ljm.eReadName(handle, \"AIN0\")\n",
    "        print(f\"Voltage at AIN0: {voltage:.4f} V\")\n",
    "        return voltage\n",
    "\n",
    "    def read_flow(self):\n",
    "        resistance = self.read_resistance()\n",
    "        local_slope = 1/(-1.7e+3) #1 degree per 1.7 kOhm in neighborhood of 22C, 33 kOhm\n",
    "        temp = (resistance-40.77e+3)*local_slope + 18 #44008RC thermistor\n",
    "        return temp, resistance\n",
    "out = LabJackT7(\"192.168.1.120\").read_voltage_AIN0()\n",
    "\n"
   ]
  },
  {
   "cell_type": "code",
   "execution_count": 42,
   "id": "a1e3b479-2fba-4851-a393-a39c7f233326",
   "metadata": {},
   "outputs": [
    {
     "name": "stdout",
     "output_type": "stream",
     "text": [
      "Connected to LabJack with IP Address: 192.168.1.120\n",
      "Voltage at AIN0: 0.3056 V\n"
     ]
    }
   ],
   "source": [
    "from labjack import ljm\n",
    "\n",
    "def connect_labjack(ip_address):\n",
    "    try:\n",
    "        # Open the LabJack T7 device over Ethernet using its IP address\n",
    "        handle = ljm.openS(\"T7\", \"ETHERNET\", ip_address)\n",
    "        print(f\"Connected to LabJack with IP Address: {ip_address}\")\n",
    "\n",
    "        \n",
    "        # Read the voltage on AIN0\n",
    "        voltage = ljm.eReadName(handle, \"AIN0\")\n",
    "        print(f\"Voltage at AIN0: {voltage:.4f} V\")\n",
    "        \n",
    "        # Close the connection\n",
    "        ljm.close(handle)\n",
    "    \n",
    "    except ljm.LJMError as e:\n",
    "        print(f\"Error: {e}\")\n",
    "\n",
    "# Example usage\n",
    "if __name__ == \"__main__\":\n",
    "    connect_labjack(\"192.168.1.120\")  # Replace with your LabJack's IP address\n"
   ]
  },
  {
   "cell_type": "code",
   "execution_count": null,
   "id": "93a11e54-e5b1-451b-aeae-bb815d5d6443",
   "metadata": {},
   "outputs": [],
   "source": []
  }
 ],
 "metadata": {
  "kernelspec": {
   "display_name": "Python 3 (ipykernel)",
   "language": "python",
   "name": "python3"
  },
  "language_info": {
   "codemirror_mode": {
    "name": "ipython",
    "version": 3
   },
   "file_extension": ".py",
   "mimetype": "text/x-python",
   "name": "python",
   "nbconvert_exporter": "python",
   "pygments_lexer": "ipython3",
   "version": "3.13.1"
  }
 },
 "nbformat": 4,
 "nbformat_minor": 5
}
